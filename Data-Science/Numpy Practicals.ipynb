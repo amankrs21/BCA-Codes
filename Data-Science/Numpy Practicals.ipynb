{
 "cells": [
  {
   "cell_type": "code",
   "execution_count": 1,
   "id": "b9e86d2f",
   "metadata": {},
   "outputs": [
    {
     "name": "stdout",
     "output_type": "stream",
     "text": [
      "[1 2 3 4 5]\n"
     ]
    }
   ],
   "source": [
    "# 1. Create an array using Numpy.\n",
    "import numpy as np\n",
    "arr = np.array([1,2,3,4,5])\n",
    "print(arr)"
   ]
  },
  {
   "cell_type": "code",
   "execution_count": 2,
   "id": "034e0dde",
   "metadata": {},
   "outputs": [
    {
     "name": "stdout",
     "output_type": "stream",
     "text": [
      "[[1 2 3]\n",
      " [4 5 6]]\n",
      "2\n"
     ]
    }
   ],
   "source": [
    "# 2. Create more than one dimensions array using Numpy.\n",
    "arr2 = np.array([[1,2,3],[4,5,6]])\n",
    "print(arr2)\n",
    "print(arr2.ndim)"
   ]
  },
  {
   "cell_type": "code",
   "execution_count": 3,
   "id": "684dcf92",
   "metadata": {},
   "outputs": [
    {
     "name": "stdout",
     "output_type": "stream",
     "text": [
      "[1 2 3]\n",
      "1\n"
     ]
    }
   ],
   "source": [
    "# 3. Create minimum dimensions array using Numpy.\n",
    "arr3 = np.array([1,2,3])\n",
    "print(arr3)\n",
    "print(arr3.ndim)"
   ]
  },
  {
   "cell_type": "code",
   "execution_count": 4,
   "id": "551a38e7",
   "metadata": {},
   "outputs": [
    {
     "name": "stdout",
     "output_type": "stream",
     "text": [
      "Data type of Array 1 :- int64\n",
      "Data type of Array 2 :- float64\n",
      "Data type of Array 3 :- <U1\n",
      "Data type of Array 4 :- <U5\n",
      "Data type of Array 5 :- float64\n"
     ]
    }
   ],
   "source": [
    "# 4. Check the data type of following array using Numpy\n",
    "type1 = np.array([1, 2, 3, 4, 5, 6])\n",
    "type2 = np.array([1.5, 2.5, 0.5, 6])\n",
    "type3 = np.array(['a', 'b', 'c'])\n",
    "type4 = np.array([\"Canada\", \"Australia\"], dtype='U5')\n",
    "type5 = np.array([555, 666], dtype=float)\n",
    "print(\"Data type of Array 1 :-\",type1.dtype)\n",
    "print(\"Data type of Array 2 :-\",type2.dtype)\n",
    "print(\"Data type of Array 3 :-\",type3.dtype)\n",
    "print(\"Data type of Array 4 :-\",type4.dtype)\n",
    "print(\"Data type of Array 5 :-\",type5.dtype)"
   ]
  },
  {
   "cell_type": "code",
   "execution_count": 5,
   "id": "ad62a125",
   "metadata": {},
   "outputs": [
    {
     "name": "stdout",
     "output_type": "stream",
     "text": [
      "Shape of Array 1 is - (6,)\n",
      "Shape of Array 2 is - (2, 3)\n",
      "Shape of Array 3 is - (2, 2, 3)\n"
     ]
    }
   ],
   "source": [
    "# 5. Check the following array shape using Numpy\n",
    "array1d = np.array([1, 2, 3, 4, 5, 6])\n",
    "array2d = np.array([[1, 2, 3], [4, 5, 6]])\n",
    "array3d = np.array([[[1, 2, 3], [4, 5, 6]], [[7, 8, 9], [10, 11, 12]]])\n",
    "print(\"Shape of Array 1 is -\",array1d.shape)\n",
    "print(\"Shape of Array 2 is -\",array2d.shape)\n",
    "print(\"Shape of Array 3 is -\",array3d.shape)"
   ]
  },
  {
   "cell_type": "code",
   "execution_count": 6,
   "id": "ef2376ed",
   "metadata": {},
   "outputs": [
    {
     "name": "stdout",
     "output_type": "stream",
     "text": [
      "[[1 2 3]\n",
      " [4 5 6]\n",
      " [7 8 9]]\n",
      "Dimension of the array is - 2\n"
     ]
    }
   ],
   "source": [
    "# 6. Use the ndim method to determine the dimension of NumPy array.\n",
    "arr4 = np.array([[1,2,3],[4,5,6],[7,8,9]])\n",
    "print(arr4)\n",
    "print(\"Dimension of the array is -\",arr4.ndim)"
   ]
  },
  {
   "cell_type": "code",
   "execution_count": 7,
   "id": "f1c80234",
   "metadata": {},
   "outputs": [
    {
     "name": "stdout",
     "output_type": "stream",
     "text": [
      "Original Array is - [ 1  2  3  4  5  6  7  8  9 10 11 12]\n",
      "Using Reshape -\n",
      " [[ 1  2  3  4]\n",
      " [ 5  6  7  8]\n",
      " [ 9 10 11 12]]\n",
      "Using Resize -\n",
      " [[1 2 3]\n",
      " [4 5 6]\n",
      " [7 8 9]]\n"
     ]
    }
   ],
   "source": [
    "# 7. Use the resize and reshape method on Numpy array.\n",
    "arr5 = np.array([1,2,3,4,5,6,7,8,9,10,11,12])\n",
    "print(\"Original Array is -\",arr5)\n",
    "print(\"Using Reshape -\\n\",arr5.reshape(3,4))\n",
    "print(\"Using Resize -\\n\",np.resize(arr5,(3,3)))"
   ]
  },
  {
   "cell_type": "code",
   "execution_count": 8,
   "id": "ecc4e4ca",
   "metadata": {},
   "outputs": [
    {
     "name": "stdout",
     "output_type": "stream",
     "text": [
      "<class 'list'>\n",
      "[1, 2, 3, 4, 5]\n",
      "<class 'numpy.ndarray'>\n",
      "[1 2 3 4 5]\n",
      "<class 'tuple'>\n",
      "([1, 2, 3], [4, 5, 6])\n",
      "<class 'numpy.ndarray'>\n",
      "[[1 2 3]\n",
      " [4 5 6]]\n"
     ]
    }
   ],
   "source": [
    "# 8. Create the Program to Transform List or Tuple into NumPy array.\n",
    "list1 = [1,2,3,4,5]\n",
    "print(type(list1))\n",
    "print(list1)\n",
    "\n",
    "arr6 = np.asarray(list1)\n",
    "print(type(arr6))\n",
    "print(arr6)\n",
    "\n",
    "tuple1 = ([1,2,3],[4,5,6])\n",
    "print(type(tuple1))\n",
    "print(tuple1)\n",
    "\n",
    "arr7 = np.asarray(tuple1)\n",
    "print(type(arr7))\n",
    "print(arr7)"
   ]
  },
  {
   "cell_type": "code",
   "execution_count": 9,
   "id": "d779a307",
   "metadata": {},
   "outputs": [
    {
     "name": "stdout",
     "output_type": "stream",
     "text": [
      "Original Array is - [1 2 3 4 5 6]\n",
      "First value is - 1\n",
      "Last value is - 6\n",
      "4th Value from start - 4\n",
      "5th value from last - 2\n",
      "Multiple Values - [2 4 6]\n"
     ]
    }
   ],
   "source": [
    "# 9. Perform the following Indexing Operations using Numpy array.\n",
    "array1d = np.array([1, 2, 3, 4, 5, 6])\n",
    "# 1. Get first value\n",
    "# 2. Get last value\n",
    "# 3. Get 4th value from first\n",
    "# 4. Get 5th value from last\n",
    "# 5. Get multiple values.\n",
    "print(\"Original Array is -\",array1d)\n",
    "print(\"First value is -\",array1d[0])\n",
    "print(\"Last value is -\",array1d[-1])\n",
    "print(\"4th Value from start -\",array1d[3])\n",
    "print(\"5th value from last -\",array1d[-5])\n",
    "print(\"Multiple Values -\",array1d[1::2])"
   ]
  },
  {
   "cell_type": "code",
   "execution_count": 10,
   "id": "7eee16af",
   "metadata": {},
   "outputs": [
    {
     "name": "stdout",
     "output_type": "stream",
     "text": [
      "Original Array is -\n",
      " [[1 2 3]\n",
      " [4 5 6]\n",
      " [7 8 9]]\n",
      "First Row first column - 1\n",
      "First Row second column - 2\n",
      "Third Row second column - 8\n",
      "Second Row second column - 5\n"
     ]
    }
   ],
   "source": [
    "# 10. Perform the following Indexing Operations using Numpy array.\n",
    "array2d = np.array([[1, 2, 3], [4, 5, 6], [7, 8, 9]])\n",
    "# 1. Get first row first col\n",
    "# 2. Get first row second col\n",
    "# 3. Get third row second col\n",
    "# 4. Get second row second col\n",
    "print(\"Original Array is -\\n\",array2d)\n",
    "print(\"First Row first column -\",array2d[0, 0])\n",
    "print(\"First Row second column -\",array2d[0, 1])\n",
    "print(\"Third Row second column -\",array2d[2, 1])\n",
    "print(\"Second Row second column -\",array2d[1,1])"
   ]
  },
  {
   "cell_type": "code",
   "execution_count": 11,
   "id": "a21c2c47",
   "metadata": {},
   "outputs": [
    {
     "name": "stdout",
     "output_type": "stream",
     "text": [
      "Original Array is -\n",
      " [[[ 1  2  3]\n",
      "  [ 4  5  6]]\n",
      "\n",
      " [[ 7  8  9]\n",
      "  [10 11 12]]]\n",
      "\n",
      "Second Row third column - 6\n",
      "Third Row first column - 7\n",
      "Fourth Row second column - 11\n"
     ]
    }
   ],
   "source": [
    "# 11. Perform the following Indexing Operations using Numpy array.\n",
    "array3d = np.array([[[1, 2, 3], [4, 5, 6]], [[7, 8, 9], [10, 11, 12]]])\n",
    "print(\"Original Array is -\\n\",array3d)\n",
    "print(\"\\nSecond Row third column -\",array3d[0,1,2])\n",
    "print(\"Third Row first column -\",array3d[1,0,0])\n",
    "print(\"Fourth Row second column -\",array3d[1,1,1])"
   ]
  },
  {
   "cell_type": "code",
   "execution_count": 12,
   "id": "9ea44a19",
   "metadata": {},
   "outputs": [
    {
     "name": "stdout",
     "output_type": "stream",
     "text": [
      "Orignial Array is - [0 1 2 3 4 5 6 7 8 9]\n",
      "from index 4 to last index - [4 5 6 7 8 9]\n",
      "From index 0 to 4 index - [0 1 2 3 4]\n",
      "From index 4(included) up to index 7(excluded) - [4 5 6]\n",
      "Excluded last element - [0 1 2 3 4 5 6 7 8]\n",
      "Up to second last index(negative index) - [0 1 2 3 4 5 6 7 8]\n",
      "From last to first in reverse order(negative step) - [9 8 7 6 5 4 3 2 1 0]\n",
      "All odd numbers in reversed order - [9 7 5 3 1]\n",
      "All even numbers in reversed order - [8 6 4 2 0]\n",
      "All elements - [0 1 2 3 4 5 6 7 8 9]\n"
     ]
    }
   ],
   "source": [
    "# 12. Perform the following Single Dimensional Slicing Operations using Numpy array.\n",
    "# 1. from index 4 to last index\n",
    "# 2. From index 0 to 4 index\n",
    "# 3. From index 4(included) up to index 7(excluded)\n",
    "# 4. Excluded last element\n",
    "# 5. Up to second last index(negative index)\n",
    "# 6. From last to first in reverse order(negative step)\n",
    "# 7. All odd numbers in reversed order\n",
    "# 8. All even numbers in reversed order\n",
    "# 9. All elements\n",
    "arr1d = np.array([0, 1, 2, 3, 4, 5, 6, 7, 8, 9])\n",
    "print(\"Orignial Array is -\",arr1d)\n",
    "print(\"from index 4 to last index -\",arr1d[4:])\n",
    "print(\"From index 0 to 4 index -\",arr1d[0:5])\n",
    "print(\"From index 4(included) up to index 7(excluded) -\",arr1d[4:7])\n",
    "print(\"Excluded last element -\",arr1d[0:9])\n",
    "print(\"Up to second last index(negative index) -\",arr1d[-10:-1])\n",
    "print(\"From last to first in reverse order(negative step) -\",arr1d[-1::-1])\n",
    "print(\"All odd numbers in reversed order -\",arr1d[-1::-2])\n",
    "print(\"All even numbers in reversed order -\",arr1d[-2::-2])\n",
    "print(\"All elements -\",arr1d)"
   ]
  },
  {
   "cell_type": "code",
   "execution_count": 13,
   "id": "c6d98819",
   "metadata": {},
   "outputs": [
    {
     "name": "stdout",
     "output_type": "stream",
     "text": [
      "orignial Array -\n",
      " [[1 2 3]\n",
      " [4 5 6]\n",
      " [7 8 9]]\n",
      "2nd and 3rd col -\n",
      " [[2 3]\n",
      " [5 6]\n",
      " [8 9]]\n",
      "2nd and 3rd row -\n",
      " [[4 5 6]\n",
      " [7 8 9]]\n",
      "Reverse an array -\n",
      " [[7 8 9]\n",
      " [4 5 6]\n",
      " [1 2 3]]\n"
     ]
    }
   ],
   "source": [
    "# 13. Perform the following Multidimensional Slicing Operations using Numpy array.\n",
    "# 1. 2nd and 3rd col\n",
    "# 2. 2nd and 3rd row\n",
    "# 3. Reverse an array\n",
    "arr2d = np.array([[1, 2, 3], [4, 5, 6], [7, 8, 9]])\n",
    "print(\"orignial Array -\\n\",arr2d)\n",
    "print(\"2nd and 3rd col -\\n\",arr2d[:,[1,2]])\n",
    "print(\"2nd and 3rd row -\\n\",arr2d[1:])\n",
    "print(\"Reverse an array -\\n\",arr2d[-1::-1])"
   ]
  },
  {
   "cell_type": "code",
   "execution_count": 14,
   "id": "db255a91",
   "metadata": {},
   "outputs": [
    {
     "name": "stdout",
     "output_type": "stream",
     "text": [
      "Orignial Array is -\n",
      " [[1 2 3]\n",
      " [4 5 6]\n",
      " [7 8 9]]\n",
      "Permute the dimensions of an array -\n",
      " [[1 4 7]\n",
      " [2 5 8]\n",
      " [3 6 9]]\n",
      "Flip array in the left/right direction -\n",
      " [[3 2 1]\n",
      " [6 5 4]\n",
      " [9 8 7]]\n",
      "Flip array in the up/down direction -\n",
      " [[7 8 9]\n",
      " [4 5 6]\n",
      " [1 2 3]]\n",
      "Rotate an array by 90 degrees in the plane specified by axes -\n",
      " [[3 6 9]\n",
      " [2 5 8]\n",
      " [1 4 7]]\n"
     ]
    }
   ],
   "source": [
    "# 14. Perform the following operations to Manipulating the Dimensions and the Shape of\n",
    "# Arrays(Flips the order of the Axes)\n",
    "# 1. Permute the dimensions of an array\n",
    "# 2. Flip array in the left/right direction\n",
    "# 3. Flip array in the up/down direction\n",
    "# 4. Rotate an array by 90 degrees in the plane specified by axes\n",
    "array2d = np.array([[1, 2, 3], [4, 5, 6], [7, 8, 9]])\n",
    "print(\"Orignial Array is -\\n\",array2d)\n",
    "print(\"Permute the dimensions of an array -\\n\",np.transpose(array2d))\n",
    "print(\"Flip array in the left/right direction -\\n\",np.fliplr(array2d))\n",
    "print(\"Flip array in the up/down direction -\\n\",np.flipud(array2d))\n",
    "print(\"Rotate an array by 90 degrees in the plane specified by axes -\\n\",np.rot90(array2d))"
   ]
  },
  {
   "cell_type": "code",
   "execution_count": 15,
   "id": "fe04636c",
   "metadata": {},
   "outputs": [
    {
     "name": "stdout",
     "output_type": "stream",
     "text": [
      "Original Array 1 is -\n",
      " [[1 2 3]\n",
      " [4 5 6]]\n",
      "Original Array 2 is -\n",
      " [[ 7  8  9]\n",
      " [10 11 12]]\n",
      "Stack arrays in sequence horizontally (Column wise) -\n",
      " [[ 1  2  3  7  8  9]\n",
      " [ 4  5  6 10 11 12]]\n",
      "Stack arrays in sequence vertically (row wise) -\n",
      " [[ 1  2  3]\n",
      " [ 4  5  6]\n",
      " [ 7  8  9]\n",
      " [10 11 12]]\n",
      "Stack arrays in sequence depth wise (along third axis) -\n",
      " [[[ 1  7]\n",
      "  [ 2  8]\n",
      "  [ 3  9]]\n",
      "\n",
      " [[ 4 10]\n",
      "  [ 5 11]\n",
      "  [ 6 12]]]\n",
      "Appending arrays after each other, along a given axis -\n",
      " [[ 1  2  3]\n",
      " [ 4  5  6]\n",
      " [ 7  8  9]\n",
      " [10 11 12]]\n",
      "Append values to the end of an array -\n",
      " [[ 1  2  3]\n",
      " [ 4  5  6]\n",
      " [ 7  8  9]\n",
      " [10 11 12]]\n"
     ]
    }
   ],
   "source": [
    "# 15.Perform the following operations to Manipulating the Dimensions and the Shape\n",
    "# of Arrays(Joining and Stacking)\n",
    "# 1. Stack arrays in sequence horizontally (column wise).\n",
    "# 2. Stack arrays in sequence vertically (row wise)\n",
    "# 3. Stack arrays in sequence depth wise (along third axis)\n",
    "# 4. Appending arrays after each other, along a given axis\n",
    "# 5. Append values to the end of an array\n",
    "array1 = np.array([[1, 2, 3], [4, 5, 6]])\n",
    "array2 = np.array([[7, 8, 9], [10, 11, 12]])\n",
    "print(\"Original Array 1 is -\\n\",array1)\n",
    "print(\"Original Array 2 is -\\n\",array2)\n",
    "print(\"Stack arrays in sequence horizontally (Column wise) -\\n\",np.hstack((array1, array2)))\n",
    "print(\"Stack arrays in sequence vertically (row wise) -\\n\",np.vstack((array1,array2)))\n",
    "print(\"Stack arrays in sequence depth wise (along third axis) -\\n\",np.dstack((array1,array2)))\n",
    "print(\"Appending arrays after each other, along a given axis -\\n\",np.concatenate((array1,array2)))\n",
    "print(\"Append values to the end of an array -\\n\",np.append(array1,array2,axis=0))"
   ]
  },
  {
   "cell_type": "code",
   "execution_count": 16,
   "id": "76736592",
   "metadata": {},
   "outputs": [
    {
     "name": "stdout",
     "output_type": "stream",
     "text": [
      "Original Array 1 -\n",
      " [[1 2 3]\n",
      " [4 5 6]]\n",
      "Original Array 2 -\n",
      " [[ 7  8  9]\n",
      " [10 11 12]]\n",
      "Array 1 + Array 2 -\n",
      " [[ 8 10 12]\n",
      " [14 16 18]]\n",
      "Array 1 - Array 2 -\n",
      " [[-6 -6 -6]\n",
      " [-6 -6 -6]]\n",
      "Array 1 * Array 2 -\n",
      " [[ 7 16 27]\n",
      " [40 55 72]]\n",
      "Array 1 / Array 2 -\n",
      " [[0.14285714 0.25       0.33333333]\n",
      " [0.4        0.45454545 0.5       ]]\n",
      "Array 1 ** Array 2 -\n",
      " [[         1        256      19683]\n",
      " [   1048576   48828125 2176782336]]\n"
     ]
    }
   ],
   "source": [
    "# 16.Perform the following Arithmetic Operations using Numpy Array.\n",
    "# 1. array1 + array2\n",
    "# 2. array1 - array2\n",
    "# 3. array1 * array2\n",
    "# 4. array2 / array1\n",
    "# 5. array1 ** array2\n",
    "array1 = np.array([[1, 2, 3], [4, 5, 6]])\n",
    "array2 = np.array([[7, 8, 9], [10, 11, 12]])\n",
    "print(\"Original Array 1 -\\n\",array1)\n",
    "print(\"Original Array 2 -\\n\",array2)\n",
    "print(\"Array 1 + Array 2 -\\n\",array1+array2)\n",
    "print(\"Array 1 - Array 2 -\\n\",array1-array2)\n",
    "print(\"Array 1 * Array 2 -\\n\",array1*array2)\n",
    "print(\"Array 1 / Array 2 -\\n\",array1/array2)\n",
    "print(\"Array 1 ** Array 2 -\\n\",array1**array2)"
   ]
  },
  {
   "cell_type": "code",
   "execution_count": 17,
   "id": "14f09a6d",
   "metadata": {},
   "outputs": [
    {
     "name": "stdout",
     "output_type": "stream",
     "text": [
      "Original Array is -\n",
      " [[10 20 30]\n",
      " [40 50 60]]\n",
      "Array 1 + (2) =\n",
      " [[12 22 32]\n",
      " [42 52 62]]\n",
      "Array 1 - (5) =\n",
      " [[ 5 15 25]\n",
      " [35 45 55]]\n",
      "Array 1 * (2) =\n",
      " [[ 20  40  60]\n",
      " [ 80 100 120]]\n",
      "Array 1 / (5) =\n",
      " [[ 2.  4.  6.]\n",
      " [ 8. 10. 12.]]\n",
      "Array 1 ** (2) =\n",
      " [[ 100  400  900]\n",
      " [1600 2500 3600]]\n"
     ]
    }
   ],
   "source": [
    "# 17.Perform the following Scalar Arithmetic Operations using Numpy Array.\n",
    "# 1. array1 + 2\n",
    "# 2. array1 – 5\n",
    "# 3. array1 * 2\n",
    "# 4. array1 / 5\n",
    "# 5. array1 ** 2\n",
    "array1 = np.array([[10, 20, 30], [40, 50, 60]])\n",
    "print(\"Original Array is -\\n\",array1)\n",
    "print(\"Array 1 + (2) =\\n\",array1+2)\n",
    "print(\"Array 1 - (5) =\\n\",array1-5)\n",
    "print(\"Array 1 * (2) =\\n\",array1*2)\n",
    "print(\"Array 1 / (5) =\\n\",array1/5)\n",
    "print(\"Array 1 ** (2) =\\n\",array1**2)"
   ]
  },
  {
   "cell_type": "code",
   "execution_count": 18,
   "id": "fbb8348a",
   "metadata": {},
   "outputs": [
    {
     "name": "stdout",
     "output_type": "stream",
     "text": [
      "Original Array is -\n",
      " [[10 20 30]\n",
      " [40 50 60]]\n",
      "sin(array1) -\n",
      " [[-0.54402111  0.91294525 -0.98803162]\n",
      " [ 0.74511316 -0.26237485 -0.30481062]]\n",
      "cos(array1) -\n",
      " [[-0.83907153  0.40808206  0.15425145]\n",
      " [-0.66693806  0.96496603 -0.95241298]]\n",
      "tan(array1) -\n",
      " [[ 0.64836083  2.23716094 -6.4053312 ]\n",
      " [-1.11721493 -0.27190061  0.32004039]]\n",
      "sqrt(array1) -\n",
      " [[3.16227766 4.47213595 5.47722558]\n",
      " [6.32455532 7.07106781 7.74596669]]\n",
      "exp(array1) -\n",
      " [[2.20264658e+04 4.85165195e+08 1.06864746e+13]\n",
      " [2.35385267e+17 5.18470553e+21 1.14200739e+26]]\n",
      "log10(array1) -\n",
      " [[1.         1.30103    1.47712125]\n",
      " [1.60205999 1.69897    1.77815125]]\n"
     ]
    }
   ],
   "source": [
    "# 18.Perform the following Elementary Mathematical Functions using Numpy Array.\n",
    "# 1. sin(array1)\n",
    "# 2. cos(array1)\n",
    "# 3.tan(array1)\n",
    "# 4. sqrt(array1)\n",
    "# 5. exp(array1)\n",
    "# 6. log10(array1)\n",
    "array1 = np.array([[10, 20, 30], [40, 50, 60]])\n",
    "print(\"Original Array is -\\n\",array1)\n",
    "print(\"sin(array1) -\\n\",np.sin(array1))\n",
    "print(\"cos(array1) -\\n\",np.cos(array1))\n",
    "print(\"tan(array1) -\\n\",np.tan(array1))\n",
    "print(\"sqrt(array1) -\\n\",np.sqrt(array1))\n",
    "print(\"exp(array1) -\\n\",np.exp(array1))\n",
    "print(\"log10(array1) -\\n\",np.log10(array1))"
   ]
  },
  {
   "cell_type": "code",
   "execution_count": 19,
   "id": "82f13177",
   "metadata": {},
   "outputs": [
    {
     "name": "stdout",
     "output_type": "stream",
     "text": [
      "Addition of Array 1 and Array 2 -\n",
      " [[12 23 34]\n",
      " [44 56 68]]\n",
      "Multiplication of Array 1 and Array 2 is -\n",
      " [[ 20  60 120]\n",
      " [160 300 480]]\n",
      "Power of Array1 and Array2 is -\n",
      " [[            100            8000          810000]\n",
      " [        2560000     15625000000 167961600000000]]\n"
     ]
    }
   ],
   "source": [
    "# 19.Perform the following Element-wise Mathematical Operations using Numpy Array.\n",
    "# 1. Addition of array1 and array2\n",
    "# 2. Multiplication of array1 and array2\n",
    "# 3. Power of array1 and array2\n",
    "array1 = np.array([[10, 20, 30], [40, 50, 60]])\n",
    "array2 = np.array([[2, 3, 4], [4, 6, 8]])\n",
    "array3 = np.array([[-2, 3.5, -4], [4.05, -6, 8]])\n",
    "print(\"Addition of Array 1 and Array 2 -\\n\",np.add(array1,array2))\n",
    "print(\"Multiplication of Array 1 and Array 2 is -\\n\",np.multiply(array1, array2))\n",
    "print(\"Power of Array1 and Array2 is -\\n\",np.power(array1,array2))\n"
   ]
  },
  {
   "cell_type": "code",
   "execution_count": 20,
   "id": "db4f4926",
   "metadata": {},
   "outputs": [
    {
     "name": "stdout",
     "output_type": "stream",
     "text": [
      "Mean of the Array 1 is - 35.0\n",
      "Standard Variance of the Array 1 is - 17.07825127659933\n",
      "Variance of the Array 1 is - 291.6666666666667\n",
      "Sum of the Array 1 is - 210\n"
     ]
    }
   ],
   "source": [
    "# 20.Perform the following Aggregate and Statistical Functions using Numpy Array.\n",
    "# 1. Mean\n",
    "# 2. Standard deviation\n",
    "# 3. Variance\n",
    "# 4. Sum of array elements\n",
    "array1 = np.array([[10, 20, 30], [40, 50, 60]])\n",
    "print(\"Mean of the Array 1 is -\",np.mean(array1))\n",
    "print(\"Standard Variance of the Array 1 is -\",np.std(array1))\n",
    "print(\"Variance of the Array 1 is -\",np.var(array1))\n",
    "print(\"Sum of the Array 1 is -\",np.sum(array1))"
   ]
  },
  {
   "cell_type": "code",
   "execution_count": 21,
   "id": "79cd7850",
   "metadata": {},
   "outputs": [
    {
     "name": "stdout",
     "output_type": "stream",
     "text": [
      "Original Array is -\n",
      " [[1 2 3]\n",
      " [4 5 6]]\n",
      "Using Where() method -\n",
      " [[ 2  4  6]\n",
      " [12 15 18]]\n"
     ]
    }
   ],
   "source": [
    "# Use the Where(), Select() and Choose() function to identify the element is less than 4, mul by 2 else by 3.\n",
    "arr1 = np.array([[1, 2, 3], [4, 5, 6]])\n",
    "print(\"Original Array is -\\n\",arr1)\n",
    "print(\"Using Where() method -\\n\",np.where(arr1 < 4, arr1 * 2, arr1 * 3))\n",
    "# print(\"Using Select() method -\\n\",np.select([arr1 < 4, arr1], [arr1 * 2, arr1 * 3]))\n",
    "# print(\"Using Choose() method -\\n\",np.choose())"
   ]
  },
  {
   "cell_type": "code",
   "execution_count": 22,
   "id": "1485de4f",
   "metadata": {},
   "outputs": [
    {
     "name": "stdout",
     "output_type": "stream",
     "text": [
      "Original Array is -\n",
      " [[10 20 30]\n",
      " [14 24 36]]\n",
      "Array Elements <10 and >15 using logical or opr are -\n",
      " [[False  True  True]\n",
      " [False  True  True]]\n",
      "Array Elements <10 and >15 using logical and opr are -\n",
      " [[False False False]\n",
      " [False False False]]\n",
      "Array Elements <20 using logical not are -\n",
      " [[False  True  True]\n",
      " [False  True  True]]\n"
     ]
    }
   ],
   "source": [
    "# 22.Perform the following Logical Operations using Numpy Array.\n",
    "# 1. logical_or(Condition array<10, array>15)\n",
    "# 2. logical_and(Condition array<10, array>15)\n",
    "# 3. logical_not(Condition array<20)\n",
    "thearray = np.array([[10, 20, 30], [14, 24, 36]])\n",
    "print(\"Original Array is -\\n\",thearray)\n",
    "print(\"Array Elements <10 and >15 using logical or opr are -\\n\",np.logical_or(thearray < 10, thearray > 15))\n",
    "print(\"Array Elements <10 and >15 using logical and opr are -\\n\",np.logical_and(thearray < 10, thearray > 15))\n",
    "print(\"Array Elements <20 using logical not are -\\n\",np.logical_not(thearray < 20))"
   ]
  },
  {
   "cell_type": "code",
   "execution_count": 23,
   "id": "e1604d9c",
   "metadata": {},
   "outputs": [
    {
     "name": "stdout",
     "output_type": "stream",
     "text": [
      "Original Array 1 is -\n",
      " [[10 20 30]\n",
      " [14 24 36]]\n",
      "Original Array 2 is -\n",
      " [[20 40 50]\n",
      " [24 34 46]]\n",
      "Union of the two arrays are -\n",
      " [10 14 20 24 30 34 36 40 46 50]\n",
      "Intersection of two arrays -\n",
      " [20 24]\n",
      "Set Difference of two  arrays are -\n",
      " [10 14 30 36]\n"
     ]
    }
   ],
   "source": [
    "# 23.Perform the following Standard Set Operations using Numpy Array.\n",
    "array1 = np.array([[10, 20, 30], [14, 24, 36]])\n",
    "array2 = np.array([[20, 40, 50], [24, 34, 46]])\n",
    "# 1. Find the union of two arrays\n",
    "# 2. Find the intersection of two arrays\n",
    "# 3. Find the set difference of two arrays\n",
    "print(\"Original Array 1 is -\\n\",array1)\n",
    "print(\"Original Array 2 is -\\n\",array2)\n",
    "print(\"Union of the two arrays are -\\n\",np.union1d(array1,array2))\n",
    "print(\"Intersection of two arrays -\\n\",np.intersect1d(array1,array2))\n",
    "print(\"Set Difference of two  arrays are -\\n\",np.setdiff1d(array1,array2))"
   ]
  }
 ],
 "metadata": {
  "kernelspec": {
   "display_name": "Python 3 (ipykernel)",
   "language": "python",
   "name": "python3"
  },
  "language_info": {
   "codemirror_mode": {
    "name": "ipython",
    "version": 3
   },
   "file_extension": ".py",
   "mimetype": "text/x-python",
   "name": "python",
   "nbconvert_exporter": "python",
   "pygments_lexer": "ipython3",
   "version": "3.10.4"
  }
 },
 "nbformat": 4,
 "nbformat_minor": 5
}
