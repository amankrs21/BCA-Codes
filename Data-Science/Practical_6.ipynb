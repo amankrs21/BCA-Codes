{
 "cells": [
  {
   "cell_type": "code",
   "execution_count": 1,
   "metadata": {},
   "outputs": [],
   "source": [
    "#import the library Pandas\n",
    "import pandas as pd"
   ]
  },
  {
   "cell_type": "code",
   "execution_count": 2,
   "metadata": {},
   "outputs": [],
   "source": [
    "#Put the lendingdata.csv dataset on Root Directory\n",
    "#Read the dataset \n",
    "data = pd.read_csv('lendingdata.csv')"
   ]
  },
  {
   "cell_type": "code",
   "execution_count": 3,
   "metadata": {},
   "outputs": [
    {
     "data": {
      "text/html": [
       "<div>\n",
       "<style scoped>\n",
       "    .dataframe tbody tr th:only-of-type {\n",
       "        vertical-align: middle;\n",
       "    }\n",
       "\n",
       "    .dataframe tbody tr th {\n",
       "        vertical-align: top;\n",
       "    }\n",
       "\n",
       "    .dataframe thead th {\n",
       "        text-align: right;\n",
       "    }\n",
       "</style>\n",
       "<table border=\"1\" class=\"dataframe\">\n",
       "  <thead>\n",
       "    <tr style=\"text-align: right;\">\n",
       "      <th></th>\n",
       "      <th>Unnamed: 0</th>\n",
       "      <th>activity</th>\n",
       "      <th>borrower_genders</th>\n",
       "      <th>country</th>\n",
       "      <th>country_code</th>\n",
       "      <th>currency_policy</th>\n",
       "      <th>distribution_model</th>\n",
       "      <th>lender_count</th>\n",
       "      <th>loan_amount</th>\n",
       "      <th>original_language</th>\n",
       "      <th>repayment_interval</th>\n",
       "      <th>sector</th>\n",
       "      <th>status</th>\n",
       "      <th>term_in_months</th>\n",
       "      <th>rMPI</th>\n",
       "    </tr>\n",
       "  </thead>\n",
       "  <tbody>\n",
       "    <tr>\n",
       "      <th>0</th>\n",
       "      <td>0</td>\n",
       "      <td>Home Appliances</td>\n",
       "      <td>group</td>\n",
       "      <td>Cambodia</td>\n",
       "      <td>KH</td>\n",
       "      <td>shared</td>\n",
       "      <td>field_partner</td>\n",
       "      <td>5.0</td>\n",
       "      <td>125.0</td>\n",
       "      <td>English</td>\n",
       "      <td>monthly</td>\n",
       "      <td>Personal Use</td>\n",
       "      <td>funded</td>\n",
       "      <td>8</td>\n",
       "      <td>0.097</td>\n",
       "    </tr>\n",
       "    <tr>\n",
       "      <th>1</th>\n",
       "      <td>1</td>\n",
       "      <td>Cereals</td>\n",
       "      <td>female</td>\n",
       "      <td>Philippines</td>\n",
       "      <td>PH</td>\n",
       "      <td>shared</td>\n",
       "      <td>field_partner</td>\n",
       "      <td>5.0</td>\n",
       "      <td>125.0</td>\n",
       "      <td>English</td>\n",
       "      <td>irregular</td>\n",
       "      <td>Food</td>\n",
       "      <td>funded</td>\n",
       "      <td>14</td>\n",
       "      <td>0.055</td>\n",
       "    </tr>\n",
       "    <tr>\n",
       "      <th>2</th>\n",
       "      <td>2</td>\n",
       "      <td>Clothing Sales</td>\n",
       "      <td>female</td>\n",
       "      <td>Peru</td>\n",
       "      <td>PE</td>\n",
       "      <td>shared</td>\n",
       "      <td>field_partner</td>\n",
       "      <td>10.0</td>\n",
       "      <td>375.0</td>\n",
       "      <td>Spanish</td>\n",
       "      <td>monthly</td>\n",
       "      <td>Clothing</td>\n",
       "      <td>funded</td>\n",
       "      <td>8</td>\n",
       "      <td>0.000</td>\n",
       "    </tr>\n",
       "    <tr>\n",
       "      <th>3</th>\n",
       "      <td>3</td>\n",
       "      <td>Clothing Sales</td>\n",
       "      <td>female</td>\n",
       "      <td>Tajikistan</td>\n",
       "      <td>TJ</td>\n",
       "      <td>not shared</td>\n",
       "      <td>field_partner</td>\n",
       "      <td>27.0</td>\n",
       "      <td>850.0</td>\n",
       "      <td>English</td>\n",
       "      <td>monthly</td>\n",
       "      <td>Clothing</td>\n",
       "      <td>funded</td>\n",
       "      <td>14</td>\n",
       "      <td>0.021</td>\n",
       "    </tr>\n",
       "    <tr>\n",
       "      <th>4</th>\n",
       "      <td>4</td>\n",
       "      <td>Fish Selling</td>\n",
       "      <td>female</td>\n",
       "      <td>Uganda</td>\n",
       "      <td>UG</td>\n",
       "      <td>not shared</td>\n",
       "      <td>field_partner</td>\n",
       "      <td>17.0</td>\n",
       "      <td>550.0</td>\n",
       "      <td>English</td>\n",
       "      <td>irregular</td>\n",
       "      <td>Food</td>\n",
       "      <td>funded</td>\n",
       "      <td>9</td>\n",
       "      <td>0.417</td>\n",
       "    </tr>\n",
       "    <tr>\n",
       "      <th>...</th>\n",
       "      <td>...</td>\n",
       "      <td>...</td>\n",
       "      <td>...</td>\n",
       "      <td>...</td>\n",
       "      <td>...</td>\n",
       "      <td>...</td>\n",
       "      <td>...</td>\n",
       "      <td>...</td>\n",
       "      <td>...</td>\n",
       "      <td>...</td>\n",
       "      <td>...</td>\n",
       "      <td>...</td>\n",
       "      <td>...</td>\n",
       "      <td>...</td>\n",
       "      <td>...</td>\n",
       "    </tr>\n",
       "    <tr>\n",
       "      <th>27531</th>\n",
       "      <td>27531</td>\n",
       "      <td>Services</td>\n",
       "      <td>female</td>\n",
       "      <td>Zambia</td>\n",
       "      <td>ZM</td>\n",
       "      <td>shared</td>\n",
       "      <td>field_partner</td>\n",
       "      <td>85.0</td>\n",
       "      <td>2300.0</td>\n",
       "      <td>English</td>\n",
       "      <td>bullet</td>\n",
       "      <td>Services</td>\n",
       "      <td>funded</td>\n",
       "      <td>9</td>\n",
       "      <td>0.158</td>\n",
       "    </tr>\n",
       "    <tr>\n",
       "      <th>27532</th>\n",
       "      <td>27532</td>\n",
       "      <td>Pigs</td>\n",
       "      <td>female</td>\n",
       "      <td>Philippines</td>\n",
       "      <td>PH</td>\n",
       "      <td>not shared</td>\n",
       "      <td>field_partner</td>\n",
       "      <td>17.0</td>\n",
       "      <td>475.0</td>\n",
       "      <td>English</td>\n",
       "      <td>irregular</td>\n",
       "      <td>Agriculture</td>\n",
       "      <td>funded</td>\n",
       "      <td>8</td>\n",
       "      <td>0.422</td>\n",
       "    </tr>\n",
       "    <tr>\n",
       "      <th>27533</th>\n",
       "      <td>27533</td>\n",
       "      <td>General Store</td>\n",
       "      <td>female</td>\n",
       "      <td>Philippines</td>\n",
       "      <td>PH</td>\n",
       "      <td>shared</td>\n",
       "      <td>field_partner</td>\n",
       "      <td>38.0</td>\n",
       "      <td>1075.0</td>\n",
       "      <td>English</td>\n",
       "      <td>irregular</td>\n",
       "      <td>Retail</td>\n",
       "      <td>funded</td>\n",
       "      <td>11</td>\n",
       "      <td>0.055</td>\n",
       "    </tr>\n",
       "    <tr>\n",
       "      <th>27534</th>\n",
       "      <td>27534</td>\n",
       "      <td>Food Market</td>\n",
       "      <td>female</td>\n",
       "      <td>Ghana</td>\n",
       "      <td>GH</td>\n",
       "      <td>shared</td>\n",
       "      <td>field_partner</td>\n",
       "      <td>35.0</td>\n",
       "      <td>1075.0</td>\n",
       "      <td>English</td>\n",
       "      <td>irregular</td>\n",
       "      <td>Food</td>\n",
       "      <td>funded</td>\n",
       "      <td>6</td>\n",
       "      <td>0.122</td>\n",
       "    </tr>\n",
       "    <tr>\n",
       "      <th>27535</th>\n",
       "      <td>27535</td>\n",
       "      <td>Farming</td>\n",
       "      <td>male</td>\n",
       "      <td>Tajikistan</td>\n",
       "      <td>TJ</td>\n",
       "      <td>not shared</td>\n",
       "      <td>field_partner</td>\n",
       "      <td>55.0</td>\n",
       "      <td>2000.0</td>\n",
       "      <td>English</td>\n",
       "      <td>monthly</td>\n",
       "      <td>Agriculture</td>\n",
       "      <td>funded</td>\n",
       "      <td>14</td>\n",
       "      <td>0.033</td>\n",
       "    </tr>\n",
       "  </tbody>\n",
       "</table>\n",
       "<p>27536 rows × 15 columns</p>\n",
       "</div>"
      ],
      "text/plain": [
       "       Unnamed: 0         activity borrower_genders      country country_code  \\\n",
       "0               0  Home Appliances            group     Cambodia           KH   \n",
       "1               1          Cereals           female  Philippines           PH   \n",
       "2               2   Clothing Sales           female         Peru           PE   \n",
       "3               3   Clothing Sales           female   Tajikistan           TJ   \n",
       "4               4     Fish Selling           female       Uganda           UG   \n",
       "...           ...              ...              ...          ...          ...   \n",
       "27531       27531         Services           female       Zambia           ZM   \n",
       "27532       27532             Pigs           female  Philippines           PH   \n",
       "27533       27533    General Store           female  Philippines           PH   \n",
       "27534       27534      Food Market           female        Ghana           GH   \n",
       "27535       27535          Farming             male   Tajikistan           TJ   \n",
       "\n",
       "      currency_policy distribution_model  lender_count  loan_amount  \\\n",
       "0              shared      field_partner           5.0        125.0   \n",
       "1              shared      field_partner           5.0        125.0   \n",
       "2              shared      field_partner          10.0        375.0   \n",
       "3          not shared      field_partner          27.0        850.0   \n",
       "4          not shared      field_partner          17.0        550.0   \n",
       "...               ...                ...           ...          ...   \n",
       "27531          shared      field_partner          85.0       2300.0   \n",
       "27532      not shared      field_partner          17.0        475.0   \n",
       "27533          shared      field_partner          38.0       1075.0   \n",
       "27534          shared      field_partner          35.0       1075.0   \n",
       "27535      not shared      field_partner          55.0       2000.0   \n",
       "\n",
       "      original_language repayment_interval        sector  status  \\\n",
       "0               English            monthly  Personal Use  funded   \n",
       "1               English          irregular          Food  funded   \n",
       "2               Spanish            monthly      Clothing  funded   \n",
       "3               English            monthly      Clothing  funded   \n",
       "4               English          irregular          Food  funded   \n",
       "...                 ...                ...           ...     ...   \n",
       "27531           English             bullet      Services  funded   \n",
       "27532           English          irregular   Agriculture  funded   \n",
       "27533           English          irregular        Retail  funded   \n",
       "27534           English          irregular          Food  funded   \n",
       "27535           English            monthly   Agriculture  funded   \n",
       "\n",
       "      term_in_months   rMPI  \n",
       "0                  8  0.097  \n",
       "1                 14  0.055  \n",
       "2                  8  0.000  \n",
       "3                 14  0.021  \n",
       "4                  9  0.417  \n",
       "...              ...    ...  \n",
       "27531              9  0.158  \n",
       "27532              8  0.422  \n",
       "27533             11  0.055  \n",
       "27534              6  0.122  \n",
       "27535             14  0.033  \n",
       "\n",
       "[27536 rows x 15 columns]"
      ]
     },
     "execution_count": 3,
     "metadata": {},
     "output_type": "execute_result"
    }
   ],
   "source": [
    "#Showing the 5 Data of given dataset\n",
    "data"
   ]
  },
  {
   "cell_type": "code",
   "execution_count": 4,
   "metadata": {},
   "outputs": [
    {
     "name": "stdout",
     "output_type": "stream",
     "text": [
      "<class 'pandas.core.frame.DataFrame'>\n",
      "RangeIndex: 27536 entries, 0 to 27535\n",
      "Data columns (total 15 columns):\n",
      " #   Column              Non-Null Count  Dtype  \n",
      "---  ------              --------------  -----  \n",
      " 0   Unnamed: 0          27536 non-null  int64  \n",
      " 1   activity            27535 non-null  object \n",
      " 2   borrower_genders    27532 non-null  object \n",
      " 3   country             27534 non-null  object \n",
      " 4   country_code        27534 non-null  object \n",
      " 5   currency_policy     27535 non-null  object \n",
      " 6   distribution_model  27535 non-null  object \n",
      " 7   lender_count        27534 non-null  float64\n",
      " 8   loan_amount         27535 non-null  float64\n",
      " 9   original_language   27533 non-null  object \n",
      " 10  repayment_interval  27535 non-null  object \n",
      " 11  sector              27536 non-null  object \n",
      " 12  status              27536 non-null  object \n",
      " 13  term_in_months      27536 non-null  object \n",
      " 14  rMPI                27536 non-null  float64\n",
      "dtypes: float64(3), int64(1), object(11)\n",
      "memory usage: 3.2+ MB\n"
     ]
    }
   ],
   "source": [
    "# How many columns are of ‘object’ data type?\n",
    "data.info()"
   ]
  },
  {
   "cell_type": "code",
   "execution_count": 5,
   "metadata": {},
   "outputs": [
    {
     "data": {
      "text/plain": [
       "11"
      ]
     },
     "execution_count": 5,
     "metadata": {},
     "output_type": "execute_result"
    }
   ],
   "source": [
    "len(data.select_dtypes('object').columns)"
   ]
  },
  {
   "cell_type": "code",
   "execution_count": 6,
   "metadata": {},
   "outputs": [
    {
     "ename": "AttributeError",
     "evalue": "'DataFrame' object has no attribute 'get_dtype_counts'",
     "output_type": "error",
     "traceback": [
      "\u001b[0;31m---------------------------------------------------------------------------\u001b[0m",
      "\u001b[0;31mAttributeError\u001b[0m                            Traceback (most recent call last)",
      "\u001b[0;32m/tmp/ipykernel_6054/1378576798.py\u001b[0m in \u001b[0;36m<module>\u001b[0;34m\u001b[0m\n\u001b[0;32m----> 1\u001b[0;31m \u001b[0mdata\u001b[0m\u001b[0;34m.\u001b[0m\u001b[0mget_dtype_counts\u001b[0m\u001b[0;34m(\u001b[0m\u001b[0;34m)\u001b[0m\u001b[0;34m\u001b[0m\u001b[0;34m\u001b[0m\u001b[0m\n\u001b[0m",
      "\u001b[0;32m~/.local/lib/python3.10/site-packages/pandas/core/generic.py\u001b[0m in \u001b[0;36m__getattr__\u001b[0;34m(self, name)\u001b[0m\n\u001b[1;32m   5573\u001b[0m         ):\n\u001b[1;32m   5574\u001b[0m             \u001b[0;32mreturn\u001b[0m \u001b[0mself\u001b[0m\u001b[0;34m[\u001b[0m\u001b[0mname\u001b[0m\u001b[0;34m]\u001b[0m\u001b[0;34m\u001b[0m\u001b[0;34m\u001b[0m\u001b[0m\n\u001b[0;32m-> 5575\u001b[0;31m         \u001b[0;32mreturn\u001b[0m \u001b[0mobject\u001b[0m\u001b[0;34m.\u001b[0m\u001b[0m__getattribute__\u001b[0m\u001b[0;34m(\u001b[0m\u001b[0mself\u001b[0m\u001b[0;34m,\u001b[0m \u001b[0mname\u001b[0m\u001b[0;34m)\u001b[0m\u001b[0;34m\u001b[0m\u001b[0;34m\u001b[0m\u001b[0m\n\u001b[0m\u001b[1;32m   5576\u001b[0m \u001b[0;34m\u001b[0m\u001b[0m\n\u001b[1;32m   5577\u001b[0m     \u001b[0;32mdef\u001b[0m \u001b[0m__setattr__\u001b[0m\u001b[0;34m(\u001b[0m\u001b[0mself\u001b[0m\u001b[0;34m,\u001b[0m \u001b[0mname\u001b[0m\u001b[0;34m:\u001b[0m \u001b[0mstr\u001b[0m\u001b[0;34m,\u001b[0m \u001b[0mvalue\u001b[0m\u001b[0;34m)\u001b[0m \u001b[0;34m->\u001b[0m \u001b[0;32mNone\u001b[0m\u001b[0;34m:\u001b[0m\u001b[0;34m\u001b[0m\u001b[0;34m\u001b[0m\u001b[0m\n",
      "\u001b[0;31mAttributeError\u001b[0m: 'DataFrame' object has no attribute 'get_dtype_counts'"
     ]
    }
   ],
   "source": [
    "data.get_dtype_counts()"
   ]
  },
  {
   "cell_type": "code",
   "execution_count": 7,
   "metadata": {},
   "outputs": [
    {
     "data": {
      "text/plain": [
       "18"
      ]
     },
     "execution_count": 7,
     "metadata": {},
     "output_type": "execute_result"
    }
   ],
   "source": [
    "# Find the total number of missing values in the data set?\n",
    "data.isna().sum().sum()"
   ]
  },
  {
   "cell_type": "code",
   "execution_count": 8,
   "metadata": {},
   "outputs": [
    {
     "data": {
      "text/plain": [
       "18"
      ]
     },
     "execution_count": 8,
     "metadata": {},
     "output_type": "execute_result"
    }
   ],
   "source": [
    "data.isnull().values.sum()"
   ]
  },
  {
   "cell_type": "code",
   "execution_count": 9,
   "metadata": {},
   "outputs": [
    {
     "name": "stdout",
     "output_type": "stream",
     "text": [
      "['field_partner' nan]\n"
     ]
    }
   ],
   "source": [
    "# Identify which of the columns contain redundant information \n",
    "# and can be dropped from the dataframe.\n",
    "print(data.distribution_model.unique())"
   ]
  },
  {
   "cell_type": "code",
   "execution_count": 10,
   "metadata": {},
   "outputs": [
    {
     "data": {
      "text/plain": [
       "field_partner    27535\n",
       "Name: distribution_model, dtype: int64"
      ]
     },
     "execution_count": 10,
     "metadata": {},
     "output_type": "execute_result"
    }
   ],
   "source": [
    "data.distribution_model.value_counts()"
   ]
  },
  {
   "cell_type": "code",
   "execution_count": 11,
   "metadata": {},
   "outputs": [
    {
     "data": {
      "text/plain": [
       "True     27534\n",
       "False        2\n",
       "Name: distribution_model, dtype: int64"
      ]
     },
     "execution_count": 11,
     "metadata": {},
     "output_type": "execute_result"
    }
   ],
   "source": [
    "data.distribution_model.duplicated().value_counts()"
   ]
  },
  {
   "cell_type": "code",
   "execution_count": 12,
   "metadata": {},
   "outputs": [
    {
     "name": "stdout",
     "output_type": "stream",
     "text": [
      "Distribution_model duplicate rows in percentage: 99.99273678094131\n"
     ]
    }
   ],
   "source": [
    "duplicate_percentage = (data.distribution_model.duplicated().sum()*100/data.shape[0])\n",
    "print(\"Distribution_model duplicate rows in percentage:\",duplicate_percentage)"
   ]
  },
  {
   "cell_type": "code",
   "execution_count": 13,
   "metadata": {},
   "outputs": [
    {
     "name": "stdout",
     "output_type": "stream",
     "text": [
      "True     27385\n",
      "False      151\n",
      "Name: activity, dtype: int64\n"
     ]
    }
   ],
   "source": [
    "dup = data.activity.duplicated().value_counts()\n",
    "print(dup)"
   ]
  },
  {
   "cell_type": "code",
   "execution_count": 14,
   "metadata": {},
   "outputs": [
    {
     "name": "stdout",
     "output_type": "stream",
     "text": [
      "Activity duplicate rows in percentage: 99.45162696106915\n"
     ]
    }
   ],
   "source": [
    "duplicate_percentage1 = (dup[True]*100/data.shape[0])\n",
    "print(\"Activity duplicate rows in percentage:\",duplicate_percentage1)"
   ]
  },
  {
   "cell_type": "code",
   "execution_count": 15,
   "metadata": {},
   "outputs": [
    {
     "data": {
      "text/plain": [
       "Farming                      2389\n",
       "General Store                2353\n",
       "Retail                       1506\n",
       "Personal Housing Expenses    1262\n",
       "Clothing Sales               1238\n",
       "                             ... \n",
       "Bookbinding                     2\n",
       "Sporting Good Sales             2\n",
       "Beekeeping                      2\n",
       "Event Planning                  1\n",
       "Aquaculture                     1\n",
       "Name: activity, Length: 150, dtype: int64"
      ]
     },
     "execution_count": 15,
     "metadata": {},
     "output_type": "execute_result"
    }
   ],
   "source": [
    "data.activity.value_counts()"
   ]
  },
  {
   "cell_type": "code",
   "execution_count": 16,
   "metadata": {},
   "outputs": [
    {
     "name": "stdout",
     "output_type": "stream",
     "text": [
      "['KH' 'PH' 'PE' 'TJ' 'UG' 'JO' 'NI' 'NG' 'CO' 'EC' 'HN' 'BJ' 'ID' 'KE'\n",
      " 'GT' 'SL' 'SV' 'CD' 'BO' 'SS' nan 'PK' 'TL' 'MN' 'YE' 'CM' 'ML' 'GH' 'NP'\n",
      " 'LR' 'LA' 'MZ' 'EG' 'VN' 'ZW' 'SN' 'AF' 'DO' 'BI' 'HT' 'LB' 'RW' 'MW'\n",
      " 'US' 'TG' 'IN' 'MG' 'TZ' 'IQ' 'BR' 'CI' 'BF' 'BZ' 'SR' 'CG' 'MM' 'ZM'\n",
      " 'GE' 'CR' 'LS' 'KG' 'WS']\n"
     ]
    }
   ],
   "source": [
    "print(data.country_code.unique())"
   ]
  },
  {
   "cell_type": "code",
   "execution_count": 17,
   "metadata": {},
   "outputs": [
    {
     "name": "stdout",
     "output_type": "stream",
     "text": [
      "True     27474\n",
      "False       62\n",
      "Name: country_code, dtype: int64\n"
     ]
    }
   ],
   "source": [
    "dup1 = data.country_code.duplicated().value_counts()\n",
    "print(dup1)"
   ]
  },
  {
   "cell_type": "code",
   "execution_count": 18,
   "metadata": {},
   "outputs": [
    {
     "name": "stdout",
     "output_type": "stream",
     "text": [
      "Country_code duplicate rows in percentage: 99.77484020918071\n"
     ]
    }
   ],
   "source": [
    "duplicate_percentage2 = (dup1[True]*100/data.shape[0])\n",
    "print(\"Country_code duplicate rows in percentage:\",duplicate_percentage2)"
   ]
  },
  {
   "cell_type": "code",
   "execution_count": 19,
   "metadata": {},
   "outputs": [
    {
     "data": {
      "text/plain": [
       "count    27535.000000\n",
       "mean       792.030143\n",
       "std        902.925607\n",
       "min         25.000000\n",
       "25%        300.000000\n",
       "50%        550.000000\n",
       "75%       1000.000000\n",
       "max      35000.000000\n",
       "Name: loan_amount, dtype: float64"
      ]
     },
     "execution_count": 19,
     "metadata": {},
     "output_type": "execute_result"
    }
   ],
   "source": [
    "# What is the third quartile value of the variable “loan_amount”?\n",
    "data['loan_amount'].describe()"
   ]
  },
  {
   "cell_type": "code",
   "execution_count": 20,
   "metadata": {},
   "outputs": [
    {
     "data": {
      "text/plain": [
       "monthly      15789\n",
       "irregular     9264\n",
       "bullet        2482\n",
       "Name: repayment_interval, dtype: int64"
      ]
     },
     "execution_count": 20,
     "metadata": {},
     "output_type": "execute_result"
    }
   ],
   "source": [
    "# What is the percentage split of the different categories in the column “repayment_interval” \n",
    "# after dropping the missing values?\n",
    "\n",
    "data.repayment_interval.value_counts()"
   ]
  },
  {
   "cell_type": "code",
   "execution_count": 21,
   "metadata": {},
   "outputs": [
    {
     "data": {
      "text/plain": [
       "monthly      57.0\n",
       "irregular    34.0\n",
       "bullet        9.0\n",
       "Name: repayment_interval, dtype: float64"
      ]
     },
     "execution_count": 21,
     "metadata": {},
     "output_type": "execute_result"
    }
   ],
   "source": [
    "round(data.repayment_interval.value_counts()*100/data.shape[0])"
   ]
  },
  {
   "cell_type": "code",
   "execution_count": 22,
   "metadata": {},
   "outputs": [
    {
     "data": {
      "text/plain": [
       "11025.0"
      ]
     },
     "execution_count": 22,
     "metadata": {},
     "output_type": "execute_result"
    }
   ],
   "source": [
    "# What is the minimum loan amount disbursed in the Agriculture sector?\n",
    "data.groupby('sector')['loan_amount'].max()['Agriculture']"
   ]
  },
  {
   "cell_type": "code",
   "execution_count": null,
   "metadata": {},
   "outputs": [],
   "source": []
  }
 ],
 "metadata": {
  "kernelspec": {
   "display_name": "Python 3 (ipykernel)",
   "language": "python",
   "name": "python3"
  },
  "language_info": {
   "codemirror_mode": {
    "name": "ipython",
    "version": 3
   },
   "file_extension": ".py",
   "mimetype": "text/x-python",
   "name": "python",
   "nbconvert_exporter": "python",
   "pygments_lexer": "ipython3",
   "version": "3.10.4"
  }
 },
 "nbformat": 4,
 "nbformat_minor": 2
}
